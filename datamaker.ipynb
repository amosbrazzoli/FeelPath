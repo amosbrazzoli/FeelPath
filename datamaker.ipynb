{
 "metadata": {
  "language_info": {
   "codemirror_mode": {
    "name": "ipython",
    "version": 3
   },
   "file_extension": ".py",
   "mimetype": "text/x-python",
   "name": "python",
   "nbconvert_exporter": "python",
   "pygments_lexer": "ipython3",
   "version": "3.8.7-final"
  },
  "orig_nbformat": 2,
  "kernelspec": {
   "name": "python387jvsc74a57bd0fce919f00e395b6eaae18fc4c94b361522f2206a1f6ad63b70b9383a62ddd33b",
   "display_name": "Python 3.8.7 64-bit ('FeelPath': pipenv)"
  },
  "metadata": {
   "interpreter": {
    "hash": "fce919f00e395b6eaae18fc4c94b361522f2206a1f6ad63b70b9383a62ddd33b"
   }
  }
 },
 "nbformat": 4,
 "nbformat_minor": 2,
 "cells": [
  {
   "cell_type": "code",
   "execution_count": 1,
   "metadata": {},
   "outputs": [],
   "source": [
    "import numpy as np\n",
    "import pandas as pd\n",
    "import networkx as nx\n",
    "import matplotlib.pyplot as plt\n",
    "%matplotlib inline"
   ]
  },
  {
   "cell_type": "code",
   "execution_count": 2,
   "metadata": {},
   "outputs": [],
   "source": [
    "convs = {\n",
    "    0 : \"neutral\",\n",
    "    1 : \"anger\",\n",
    "    2 : \"disgust\",\n",
    "    3 : \"fear\",\n",
    "    4 : \"happy\",\n",
    "    5 : \"sad\",\n",
    "    6 : \"surprise\",\n",
    "    -1 : \"unknown\",\n",
    "}\n",
    "\n",
    "INIT = \"^\"\n",
    "END = \"$\""
   ]
  },
  {
   "cell_type": "code",
   "execution_count": 3,
   "metadata": {
    "tags": []
   },
   "outputs": [],
   "source": [
    "PATH = \"data/sequence_train\"\n",
    "files = os.listdir(PATH)\n",
    "\n",
    "records = {}\n",
    "c_records = {}\n",
    "lm_record = {}\n",
    "\n",
    "\n",
    "for file in files:\n",
    "    l_record = {}\n",
    "    with open(PATH +\"/\"+ file, \"r\") as fh:\n",
    "        last_value = INIT\n",
    "        counter = 0\n",
    "        order = 0\n",
    "        for line in fh:\n",
    "            if line.strip() == \"Neutral,Anger,Disgust,Fear,Happiness,Sadness,Surprise\":\n",
    "                continue\n",
    "            else:\n",
    "                value = int(line.strip())\n",
    "\n",
    "            try:\n",
    "                assert value in {-1, 0, 1, 2, 3, 4, 5, 6}\n",
    "                value = convs[value]\n",
    "            except AssertionError:\n",
    "                print(file, line, value, sep=\"<>\")\n",
    "\n",
    "            records.setdefault(last_value, {}).setdefault(value, 0)\n",
    "            c_records.setdefault((last_value, value), 0)\n",
    "            l_record.setdefault(value, 0)\n",
    "\n",
    "            if last_value == value:\n",
    "                records[last_value][value] *= 0.95\n",
    "                c_records[(last_value, value)] *= 0.95\n",
    "\n",
    "            records[last_value][value] += 1\n",
    "            c_records[(last_value, value)] += 1\n",
    "            l_record[value] += 1\n",
    "\n",
    "\n",
    "            last_value = value\n",
    "\n",
    "        records.setdefault(value, {}).setdefault(END, 0)\n",
    "        c_records.setdefault((value, END), 0)\n",
    "        records[value][END] += 1\n",
    "        c_records[(value, END)] += 1\n",
    "\n",
    "        for key, v in l_record.items():\n",
    "            lm_record.setdefault(key, {}).setdefault(value, 0)\n",
    "            lm_record[key][value] += v\n",
    "\n"
   ]
  },
  {
   "cell_type": "code",
   "execution_count": 4,
   "metadata": {},
   "outputs": [
    {
     "output_type": "stream",
     "name": "stdout",
     "text": [
      "             ^  neutral  happy  surprise  anger  unknown  disgust   sad  fear\nneutral   26.0     20.0  106.0      77.0   32.0     13.0     27.0  14.0  16.0\nunknown    7.0     12.0   20.0       9.0    1.0     20.0      1.0   8.0   1.0\nsurprise   4.0     91.0   69.0      20.0   21.0      7.0      8.0   2.0   8.0\nsad        3.0     15.0    3.0       3.0    6.0      5.0      1.0  20.0   9.0\nhappy     11.0    105.0   20.0      72.0   20.0     19.0      7.0   7.0   7.0\nanger      NaN     36.0   15.0      24.0   20.0      4.0      2.0   5.0   5.0\ndisgust    NaN     16.0   10.0      13.0    3.0      1.0     20.0   3.0   4.0\n$          NaN     13.0   18.0       3.0    5.0      9.0      1.0   2.0   NaN\nfear       NaN     23.0    7.0       9.0    3.0      1.0      3.0   4.0  20.0\n\n             ^  anger  disgust  fear  happy  neutral   sad  surprise  unknown\n$          NaN    5.0      1.0   NaN   18.0     13.0   2.0       3.0      9.0\nanger      NaN   20.0      2.0   5.0   15.0     36.0   5.0      24.0      4.0\ndisgust    NaN    3.0     20.0   4.0   10.0     16.0   3.0      13.0      1.0\nfear       NaN    3.0      3.0  20.0    7.0     23.0   4.0       9.0      1.0\nhappy     11.0   20.0      7.0   7.0   20.0    105.0   7.0      72.0     19.0\nneutral   26.0   32.0     27.0  16.0  106.0     20.0  14.0      77.0     13.0\nsad        3.0    6.0      1.0   9.0    3.0     15.0  20.0       3.0      5.0\nsurprise   4.0   21.0      8.0   8.0   69.0     91.0   2.0      20.0      7.0\nunknown    7.0    1.0      1.0   1.0   20.0     12.0   8.0       9.0     20.0\n"
     ]
    }
   ],
   "source": [
    "df = pd.DataFrame(records)\n",
    "print(df)\n",
    "print()\n",
    "df = df.reindex(sorted(df.columns), axis=1).sort_index()\n",
    "print(df)"
   ]
  },
  {
   "cell_type": "code",
   "execution_count": 5,
   "metadata": {},
   "outputs": [
    {
     "output_type": "stream",
     "name": "stderr",
     "text": [
      "<ipython-input-5-3507b8ea2baa>:4: DeprecationWarning: The default dtype for empty Series will be 'object' instead of 'float64' in a future version. Specify a dtype explicitly to silence this warning.\n  d = pd.Series(name=\"fear\")\n"
     ]
    },
    {
     "output_type": "execute_result",
     "data": {
      "text/plain": [
       "             anger   disgust      fear     happy   neutral       sad  \\\n",
       "anger     0.841279  0.000000  0.000000  0.000000  0.088663  0.067442   \n",
       "disgust   0.000000  0.839506  0.000000  0.000000  0.131687  0.000000   \n",
       "happy     0.046473  0.029977  0.048088  0.231120  0.278846  0.255609   \n",
       "neutral   0.149868  0.116590  0.017261  0.223614  0.330168  0.077727   \n",
       "sad       0.000000  0.000000  0.000000  0.000000  0.011988  0.972886   \n",
       "surprise  0.024330  0.003645  0.001549  0.060324  0.021597  0.002369   \n",
       "unknown   0.108178  0.000000  0.000933  0.616069  0.046700  0.065710   \n",
       "fear      0.000000  0.000000  0.000000  0.000000  0.000000  0.000000   \n",
       "\n",
       "          surprise   unknown  \n",
       "anger     0.000000  0.002616  \n",
       "disgust   0.000000  0.028807  \n",
       "happy     0.098162  0.011725  \n",
       "neutral   0.078358  0.006414  \n",
       "sad       0.000000  0.015126  \n",
       "surprise  0.886094  0.000091  \n",
       "unknown   0.139885  0.022525  \n",
       "fear      0.000000  0.000000  "
      ],
      "text/html": "<div>\n<style scoped>\n    .dataframe tbody tr th:only-of-type {\n        vertical-align: middle;\n    }\n\n    .dataframe tbody tr th {\n        vertical-align: top;\n    }\n\n    .dataframe thead th {\n        text-align: right;\n    }\n</style>\n<table border=\"1\" class=\"dataframe\">\n  <thead>\n    <tr style=\"text-align: right;\">\n      <th></th>\n      <th>anger</th>\n      <th>disgust</th>\n      <th>fear</th>\n      <th>happy</th>\n      <th>neutral</th>\n      <th>sad</th>\n      <th>surprise</th>\n      <th>unknown</th>\n    </tr>\n  </thead>\n  <tbody>\n    <tr>\n      <th>anger</th>\n      <td>0.841279</td>\n      <td>0.000000</td>\n      <td>0.000000</td>\n      <td>0.000000</td>\n      <td>0.088663</td>\n      <td>0.067442</td>\n      <td>0.000000</td>\n      <td>0.002616</td>\n    </tr>\n    <tr>\n      <th>disgust</th>\n      <td>0.000000</td>\n      <td>0.839506</td>\n      <td>0.000000</td>\n      <td>0.000000</td>\n      <td>0.131687</td>\n      <td>0.000000</td>\n      <td>0.000000</td>\n      <td>0.028807</td>\n    </tr>\n    <tr>\n      <th>happy</th>\n      <td>0.046473</td>\n      <td>0.029977</td>\n      <td>0.048088</td>\n      <td>0.231120</td>\n      <td>0.278846</td>\n      <td>0.255609</td>\n      <td>0.098162</td>\n      <td>0.011725</td>\n    </tr>\n    <tr>\n      <th>neutral</th>\n      <td>0.149868</td>\n      <td>0.116590</td>\n      <td>0.017261</td>\n      <td>0.223614</td>\n      <td>0.330168</td>\n      <td>0.077727</td>\n      <td>0.078358</td>\n      <td>0.006414</td>\n    </tr>\n    <tr>\n      <th>sad</th>\n      <td>0.000000</td>\n      <td>0.000000</td>\n      <td>0.000000</td>\n      <td>0.000000</td>\n      <td>0.011988</td>\n      <td>0.972886</td>\n      <td>0.000000</td>\n      <td>0.015126</td>\n    </tr>\n    <tr>\n      <th>surprise</th>\n      <td>0.024330</td>\n      <td>0.003645</td>\n      <td>0.001549</td>\n      <td>0.060324</td>\n      <td>0.021597</td>\n      <td>0.002369</td>\n      <td>0.886094</td>\n      <td>0.000091</td>\n    </tr>\n    <tr>\n      <th>unknown</th>\n      <td>0.108178</td>\n      <td>0.000000</td>\n      <td>0.000933</td>\n      <td>0.616069</td>\n      <td>0.046700</td>\n      <td>0.065710</td>\n      <td>0.139885</td>\n      <td>0.022525</td>\n    </tr>\n    <tr>\n      <th>fear</th>\n      <td>0.000000</td>\n      <td>0.000000</td>\n      <td>0.000000</td>\n      <td>0.000000</td>\n      <td>0.000000</td>\n      <td>0.000000</td>\n      <td>0.000000</td>\n      <td>0.000000</td>\n    </tr>\n  </tbody>\n</table>\n</div>"
     },
     "metadata": {},
     "execution_count": 5
    }
   ],
   "source": [
    "emissions = pd.DataFrame(lm_record)\n",
    "emissions = emissions.reindex(sorted(emissions.columns), axis=1).sort_index()\n",
    "emissions = emissions.div(emissions.sum(axis=1), axis=0)\n",
    "d = pd.Series(name=\"fear\")\n",
    "emissions = emissions.append(d).fillna(0)\n",
    "emissions"
   ]
  },
  {
   "cell_type": "code",
   "execution_count": 6,
   "metadata": {},
   "outputs": [
    {
     "output_type": "execute_result",
     "data": {
      "text/plain": [
       "             anger   disgust      fear     happy   neutral       sad  \\\n",
       "anger     0.180180  0.018018  0.045045  0.135135  0.324324  0.045045   \n",
       "disgust   0.042857  0.285714  0.057143  0.142857  0.228571  0.042857   \n",
       "fear      0.042857  0.042857  0.285714  0.100000  0.328571  0.057143   \n",
       "happy     0.077821  0.027237  0.027237  0.077821  0.408560  0.027237   \n",
       "neutral   0.104918  0.088525  0.052459  0.347541  0.065574  0.045902   \n",
       "sad       0.096774  0.016129  0.145161  0.048387  0.241935  0.322581   \n",
       "surprise  0.092920  0.035398  0.035398  0.305310  0.402655  0.008850   \n",
       "unknown   0.013889  0.013889  0.013889  0.277778  0.166667  0.111111   \n",
       "\n",
       "          surprise   unknown  \n",
       "anger     0.216216  0.036036  \n",
       "disgust   0.185714  0.014286  \n",
       "fear      0.128571  0.014286  \n",
       "happy     0.280156  0.073930  \n",
       "neutral   0.252459  0.042623  \n",
       "sad       0.048387  0.080645  \n",
       "surprise  0.088496  0.030973  \n",
       "unknown   0.125000  0.277778  "
      ],
      "text/html": "<div>\n<style scoped>\n    .dataframe tbody tr th:only-of-type {\n        vertical-align: middle;\n    }\n\n    .dataframe tbody tr th {\n        vertical-align: top;\n    }\n\n    .dataframe thead th {\n        text-align: right;\n    }\n</style>\n<table border=\"1\" class=\"dataframe\">\n  <thead>\n    <tr style=\"text-align: right;\">\n      <th></th>\n      <th>anger</th>\n      <th>disgust</th>\n      <th>fear</th>\n      <th>happy</th>\n      <th>neutral</th>\n      <th>sad</th>\n      <th>surprise</th>\n      <th>unknown</th>\n    </tr>\n  </thead>\n  <tbody>\n    <tr>\n      <th>anger</th>\n      <td>0.180180</td>\n      <td>0.018018</td>\n      <td>0.045045</td>\n      <td>0.135135</td>\n      <td>0.324324</td>\n      <td>0.045045</td>\n      <td>0.216216</td>\n      <td>0.036036</td>\n    </tr>\n    <tr>\n      <th>disgust</th>\n      <td>0.042857</td>\n      <td>0.285714</td>\n      <td>0.057143</td>\n      <td>0.142857</td>\n      <td>0.228571</td>\n      <td>0.042857</td>\n      <td>0.185714</td>\n      <td>0.014286</td>\n    </tr>\n    <tr>\n      <th>fear</th>\n      <td>0.042857</td>\n      <td>0.042857</td>\n      <td>0.285714</td>\n      <td>0.100000</td>\n      <td>0.328571</td>\n      <td>0.057143</td>\n      <td>0.128571</td>\n      <td>0.014286</td>\n    </tr>\n    <tr>\n      <th>happy</th>\n      <td>0.077821</td>\n      <td>0.027237</td>\n      <td>0.027237</td>\n      <td>0.077821</td>\n      <td>0.408560</td>\n      <td>0.027237</td>\n      <td>0.280156</td>\n      <td>0.073930</td>\n    </tr>\n    <tr>\n      <th>neutral</th>\n      <td>0.104918</td>\n      <td>0.088525</td>\n      <td>0.052459</td>\n      <td>0.347541</td>\n      <td>0.065574</td>\n      <td>0.045902</td>\n      <td>0.252459</td>\n      <td>0.042623</td>\n    </tr>\n    <tr>\n      <th>sad</th>\n      <td>0.096774</td>\n      <td>0.016129</td>\n      <td>0.145161</td>\n      <td>0.048387</td>\n      <td>0.241935</td>\n      <td>0.322581</td>\n      <td>0.048387</td>\n      <td>0.080645</td>\n    </tr>\n    <tr>\n      <th>surprise</th>\n      <td>0.092920</td>\n      <td>0.035398</td>\n      <td>0.035398</td>\n      <td>0.305310</td>\n      <td>0.402655</td>\n      <td>0.008850</td>\n      <td>0.088496</td>\n      <td>0.030973</td>\n    </tr>\n    <tr>\n      <th>unknown</th>\n      <td>0.013889</td>\n      <td>0.013889</td>\n      <td>0.013889</td>\n      <td>0.277778</td>\n      <td>0.166667</td>\n      <td>0.111111</td>\n      <td>0.125000</td>\n      <td>0.277778</td>\n    </tr>\n  </tbody>\n</table>\n</div>"
     },
     "metadata": {},
     "execution_count": 6
    }
   ],
   "source": [
    "trans = df.drop(INIT, axis=1).drop(END, axis=0)\n",
    "trans = trans.reindex(sorted(trans.columns), axis=1).sort_index()\n",
    "trans = trans.div(trans.sum(axis=1), axis=0).fillna(0)\n",
    "\n",
    "trans"
   ]
  },
  {
   "cell_type": "code",
   "execution_count": 7,
   "metadata": {},
   "outputs": [
    {
     "output_type": "stream",
     "name": "stdout",
     "text": [
      "             ^  anger  disgust  fear  happy  neutral   sad  surprise  unknown\nanger      NaN   20.0      2.0   5.0   15.0     36.0   5.0      24.0      4.0\ndisgust    NaN    3.0     20.0   4.0   10.0     16.0   3.0      13.0      1.0\nfear       NaN    3.0      3.0  20.0    7.0     23.0   4.0       9.0      1.0\nhappy     11.0   20.0      7.0   7.0   20.0    105.0   7.0      72.0     19.0\nneutral   26.0   32.0     27.0  16.0  106.0     20.0  14.0      77.0     13.0\nsad        3.0    6.0      1.0   9.0    3.0     15.0  20.0       3.0      5.0\nsurprise   4.0   21.0      8.0   8.0   69.0     91.0   2.0      20.0      7.0\nunknown    7.0    1.0      1.0   1.0   20.0     12.0   8.0       9.0     20.0\n"
     ]
    },
    {
     "output_type": "execute_result",
     "data": {
      "text/plain": [
       "array([0.        , 0.        , 0.        , 0.21568627, 0.50980392,\n",
       "       0.05882353, 0.07843137, 0.1372549 ])"
      ]
     },
     "metadata": {},
     "execution_count": 7
    }
   ],
   "source": [
    "red = df.drop(END, axis=0).sort_index()\n",
    "print(red)\n",
    "init = red[INIT].fillna(0).tolist()\n",
    "init = [i / sum(init) for i in init]\n",
    "init = np.array(init)\n",
    "init"
   ]
  },
  {
   "cell_type": "code",
   "execution_count": 8,
   "metadata": {},
   "outputs": [],
   "source": [
    "import networkx as nx\n",
    "import matplotlib.pyplot as plt\n",
    "%matplotlib inline"
   ]
  },
  {
   "cell_type": "code",
   "execution_count": 9,
   "metadata": {},
   "outputs": [],
   "source": [
    "G = nx.MultiDiGraph()\n",
    "\n",
    "for n in convs.values():\n",
    "    G.add_node(n)"
   ]
  },
  {
   "cell_type": "code",
   "execution_count": 10,
   "metadata": {},
   "outputs": [
    {
     "output_type": "stream",
     "name": "stdout",
     "text": [
      "Nodes:\n['neutral', 'anger', 'disgust', 'fear', 'happy', 'sad', 'surprise', 'unknown']\n\n"
     ]
    }
   ],
   "source": [
    "print(f'Nodes:\\n{G.nodes()}\\n')"
   ]
  },
  {
   "cell_type": "code",
   "execution_count": 11,
   "metadata": {},
   "outputs": [
    {
     "output_type": "stream",
     "name": "stdout",
     "text": [
      "Edges:\n[('neutral', 'neutral', {'weight': 19.99999999999995}), ('neutral', 'happy', {'weight': 105}), ('neutral', 'anger', {'weight': 36}), ('neutral', 'disgust', {'weight': 16}), ('neutral', '$', {'weight': 13}), ('neutral', 'unknown', {'weight': 12}), ('neutral', 'surprise', {'weight': 91}), ('neutral', 'fear', {'weight': 23}), ('neutral', 'sad', {'weight': 15}), ('anger', 'anger', {'weight': 19.99999999999995}), ('anger', '$', {'weight': 5}), ('anger', 'happy', {'weight': 20}), ('anger', 'neutral', {'weight': 32}), ('anger', 'disgust', {'weight': 3}), ('anger', 'fear', {'weight': 3}), ('anger', 'surprise', {'weight': 21}), ('anger', 'sad', {'weight': 6}), ('anger', 'unknown', {'weight': 1}), ('disgust', 'disgust', {'weight': 19.99999999999995}), ('disgust', '$', {'weight': 1}), ('disgust', 'fear', {'weight': 3}), ('disgust', 'neutral', {'weight': 27}), ('disgust', 'surprise', {'weight': 8}), ('disgust', 'happy', {'weight': 7}), ('disgust', 'anger', {'weight': 2}), ('disgust', 'unknown', {'weight': 1}), ('disgust', 'sad', {'weight': 1}), ('fear', 'fear', {'weight': 19.99999999999995}), ('fear', 'neutral', {'weight': 16}), ('fear', 'happy', {'weight': 7}), ('fear', 'anger', {'weight': 5}), ('fear', 'disgust', {'weight': 4}), ('fear', 'surprise', {'weight': 8}), ('fear', 'sad', {'weight': 9}), ('fear', 'unknown', {'weight': 1}), ('happy', 'happy', {'weight': 19.99999999999995}), ('happy', 'surprise', {'weight': 69}), ('happy', '$', {'weight': 18}), ('happy', 'neutral', {'weight': 106}), ('happy', 'anger', {'weight': 15}), ('happy', 'fear', {'weight': 7}), ('happy', 'unknown', {'weight': 20}), ('happy', 'disgust', {'weight': 10}), ('happy', 'sad', {'weight': 3}), ('sad', 'sad', {'weight': 19.99999999999995}), ('sad', 'unknown', {'weight': 8}), ('sad', 'happy', {'weight': 7}), ('sad', 'surprise', {'weight': 2}), ('sad', 'neutral', {'weight': 14}), ('sad', 'anger', {'weight': 5}), ('sad', 'disgust', {'weight': 3}), ('sad', 'fear', {'weight': 4}), ('sad', '$', {'weight': 2}), ('surprise', 'surprise', {'weight': 19.99999999999995}), ('surprise', 'happy', {'weight': 72}), ('surprise', 'anger', {'weight': 24}), ('surprise', 'neutral', {'weight': 77}), ('surprise', 'disgust', {'weight': 13}), ('surprise', 'unknown', {'weight': 9}), ('surprise', '$', {'weight': 3}), ('surprise', 'fear', {'weight': 9}), ('surprise', 'sad', {'weight': 3}), ('unknown', 'unknown', {'weight': 19.99999999999995}), ('unknown', 'neutral', {'weight': 13}), ('unknown', 'sad', {'weight': 5}), ('unknown', '$', {'weight': 9}), ('unknown', 'happy', {'weight': 19}), ('unknown', 'fear', {'weight': 1}), ('unknown', 'anger', {'weight': 4}), ('unknown', 'surprise', {'weight': 7}), ('unknown', 'disgust', {'weight': 1}), ('^', 'neutral', {'weight': 26}), ('^', 'unknown', {'weight': 7}), ('^', 'surprise', {'weight': 4}), ('^', 'sad', {'weight': 3}), ('^', 'happy', {'weight': 11})]\n"
     ]
    }
   ],
   "source": [
    "for key, value in c_records.items():\n",
    "    start, end = key\n",
    "    G.add_edge(start, end, weight=value)\n",
    "\n",
    "print(f'Edges:')\n",
    "print(G.edges(data=True))  "
   ]
  },
  {
   "cell_type": "code",
   "execution_count": 36,
   "metadata": {},
   "outputs": [],
   "source": [
    "def Viterbi(pi, a, b, obs):\n",
    "    pi = np.array(pi)\n",
    "    a = np.array(a)\n",
    "    b = np.array(b)\n",
    "    obs = np.array(obs)\n",
    "    \n",
    "    nStates = np.shape(b)[0]\n",
    "    T = np.shape(obs)[0]\n",
    "\n",
    "    path = np.zeros(T)\n",
    "    delta = np.zeros((nStates,T))\n",
    "    phi = np.zeros((nStates,T))\n",
    "\n",
    "    delta[:,0] = pi * b[:,obs[0]]\n",
    "    phi[:,0] = 0\n",
    "\n",
    "    for t in range(1,T):\n",
    "        for s in range(nStates):\n",
    "            delta[s,t] = np.max( delta[:,t-1] * a[:,s] ) * b[s,obs[t]]\n",
    "            phi[s,t] = np.argmax(delta[:,t-1] * a[:,s])\n",
    "\n",
    "    path[T-1] = np.argmax(delta[:,T-1])\n",
    "    for t in range(T-2,-1,-1):\n",
    "        path[t] = phi[int(path[t+1]),t+1]\n",
    "\n",
    "    return path,delta, phi"
   ]
  },
  {
   "cell_type": "code",
   "execution_count": 37,
   "metadata": {},
   "outputs": [],
   "source": [
    "obs = np.array([0, 1, 3, 4, 5])"
   ]
  },
  {
   "cell_type": "code",
   "execution_count": 38,
   "metadata": {},
   "outputs": [
    {
     "output_type": "stream",
     "name": "stdout",
     "text": [
      "\nsingle best state path: \n [3. 1. 6. 3. 4.]\ndelta:\n [[0.00000000e+00 0.00000000e+00 0.00000000e+00 6.96704201e-07\n  4.47402692e-08]\n [0.00000000e+00 7.39131315e-04 0.00000000e+00 3.94204365e-07\n  0.00000000e+00]\n [0.00000000e+00 2.63925442e-05 9.76161758e-06 8.34721820e-07\n  6.09607595e-08]\n [3.23245727e-02 3.02017287e-04 2.36113982e-05 8.52456406e-06\n  5.15632827e-08]\n [0.00000000e+00 0.00000000e+00 0.00000000e+00 4.08205837e-07\n  3.38836592e-06]\n [1.43119030e-03 3.20917015e-06 1.91089952e-06 1.61622241e-08\n  5.50104867e-10]\n [8.48454159e-03 0.00000000e+00 8.45660756e-05 3.49490961e-07\n  1.56929377e-07]\n [0.00000000e+00 0.00000000e+00 0.00000000e+00 0.00000000e+00\n  0.00000000e+00]]\nphi:\n [[0. 3. 1. 6. 3.]\n [0. 3. 1. 6. 3.]\n [0. 3. 1. 6. 2.]\n [0. 6. 1. 6. 3.]\n [0. 3. 1. 6. 3.]\n [0. 3. 1. 6. 3.]\n [0. 3. 1. 6. 3.]\n [0. 3. 3. 6. 3.]]\n"
     ]
    }
   ],
   "source": [
    "path, delta, phi = Viterbi(init, trans, emissions, obs)\n",
    "print('\\nsingle best state path: \\n', path)\n",
    "print('delta:\\n', delta)\n",
    "print('phi:\\n', phi)"
   ]
  },
  {
   "cell_type": "code",
   "execution_count": null,
   "metadata": {},
   "outputs": [],
   "source": []
  }
 ]
}